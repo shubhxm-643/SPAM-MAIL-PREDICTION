import numpy as np
#numpy array
import pandas as pd
#create data frames to structure data


from sklearn.model_selection import train_test_split
#to split data into training and testing set
from sklearn.feature_extraction.text import TfidfVectorizer
#to convert data into feature vectors (numerical values)
from sklearn.linear_model import LogisticRegression
#algo to predict of a dependent variable



# loading the data from csv file to a pandas Dataframe
raw_mail_data = pd.read_csv('/content/mail_data.csv')


# replace the null values with a null string
mail_data = raw_mail_data.where((pd.notnull(raw_mail_data)),'')


# label spam mail as 0 and ham mail as 1    (HAM mail-not spam mails)
mail_data.loc[mail_data['Category'] == 'spam', 'Category',] = 0
mail_data.loc[mail_data['Category'] == 'ham', 'Category',] = 1




# separating the data as texts and label
X = mail_data['Message']

Y = mail_data['Category']

X_train, X_test, Y_train, Y_test = train_test_split(X, Y, test_size=0.1, random_state=3)
# transform the text data to feature vectors that can be used as input to the Logistic regression

feature_extraction = TfidfVectorizer(min_df = 1, stop_words='english', lowercase=True)
X_train_features = feature_extraction.fit_transform(X_train)
X_test_features = feature_extraction.transform(X_test)
# convert Y_train and Y_test values as integers
Y_train = Y_train.astype('int')
Y_test = Y_test.astype('int')


model = LogisticRegression()

# training the Logistic Regression model with the training data
model.fit(X_train_features, Y_train)

#INPUT
input_mail = ["ggg"]




input_data_features = feature_extraction.transform(input_mail)
#convert input_mail to feature vectors




prediction = model.predict(input_data_features)
# making prediction


print(prediction)


if (prediction[0]==1):
  print('NOT a Spam mail')
else:
  print('Spam mail')

